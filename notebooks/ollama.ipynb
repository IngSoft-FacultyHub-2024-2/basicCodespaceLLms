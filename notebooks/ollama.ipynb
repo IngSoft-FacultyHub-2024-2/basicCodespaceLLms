{
 "cells": [
  {
   "cell_type": "code",
   "execution_count": null,
   "id": "e2638f24",
   "metadata": {},
   "outputs": [],
   "source": []
  }
 ],
 "metadata": {
  "kernelspec": {
   "display_name": ".venv",
   "language": "python",
   "name": "python3"
  },
  "language_info": {
   "name": "python",
   "version": "3.12.11"
  }
 },
 "nbformat": 4,
 "nbformat_minor": 5
}
